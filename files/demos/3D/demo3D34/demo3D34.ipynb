{
 "cells": [
  {
   "cell_type": "markdown",
   "metadata": {},
   "source": [
    "# demo3D29\n",
    "Synthesize one 3D image with nuclear, cell shape and a vesicular channel. \n",
    "This demo exports the synthetic image as an OME.TIFF as well as an \n",
    "SBML Spatial instance.\n",
    "\n",
    "## Input \n",
    "* valid model\n",
    "\n",
    "## Output\n",
    "* OME.TIFF\n",
    "* SBML instance\n",
    "* single channel TIF files\n"
   ]
  },
  {
   "cell_type": "code",
   "execution_count": null,
   "metadata": {},
   "outputs": [],
   "source": [
    "options['seed'] = 12345;\n",
    "options['targetDirectory'] = pwd;\n",
    "options['numberOfSynthesizedImages'] = 1;\n",
    "options['numberOfGaussianObjects'] = 25;\n",
    "options['prefix'] = 'img';\n",
    "options['compression'] = 'lzw';\n",
    "options['microscope'] = 'none';\n",
    "options['sampling.method'] = 'disc';\n",
    "options['verbose'] = true;\n",
    "options['debug'] = false;\n",
    "options['output.tifimages'] = true;\n",
    "options['overwrite_synthetic_instances'] = false;\n",
    "options['rendAtStd'] = 1.0;\n",
    "options['objstd'] = options.rendAtStd+0.3;\n",
    "options['overlapsubsize'] = 1;\n",
    "options['output.SBMLSpatial'] = true;\n",
    "options['output.OMETIFF'] = true;\n",
    "\n",
    "if not os.path.exists('../../../models/3D/tfr.mat'):\n",
    "    os.system('wget -nc --quiet http://www.cellorganizer.org/models/tfr.mat')\n",
    "    list_of_models = 'tfr.mat'\n",
    "else\n",
    "    list_of_models = '../../../models/3D/tfr.mat'\n",
    "\n",
    "answer = slml2img( list_of_models, options );\n"
   ]
  }
 ],
 "metadata": {
  "kernelspec": {
   "display_name": "Python 3",
   "language": "python",
   "name": "python3"
  },
  "language_info": {
   "codemirror_mode": {
    "name": "ipython",
    "version": 3
   },
   "file_extension": ".py",
   "mimetype": "text/x-python",
   "name": "python",
   "nbconvert_exporter": "python",
   "pygments_lexer": "ipython3",
   "version": "3.6.8"
  }
 },
 "nbformat": 4,
 "nbformat_minor": 2
}
