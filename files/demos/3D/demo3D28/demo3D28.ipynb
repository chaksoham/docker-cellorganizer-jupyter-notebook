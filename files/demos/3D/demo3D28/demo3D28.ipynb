{
 "cells": [
  {
   "cell_type": "markdown",
   "metadata": {},
   "source": [
    "# demo3D28\n",
    "Synthesize one 3D image with nuclear, cell shape, and nucleolar channels\n",
    "from nucleolar model with sampling method set to render nucleoli as\n",
    "ellipsoids without convolution. The model was trained from the Murphy Lab\n",
    "3D HeLa dataset.\n",
    "\n",
    "\n",
    "## Input \n",
    "* an existing raw or synthetic nuclear image, i.e. one binary multi-TIFF\n",
    "  file of the nuclear channel\n",
    "* the resolution of the input image\n",
    "* a valid CellOrganizer model that contains a cell membrane model\n",
    "\n",
    "## Output\n",
    "* three TIFF files (cell shape, nuclear, and nucleolar channels)"
   ]
  },
  {
   "cell_type": "code",
   "execution_count": null,
   "metadata": {},
   "outputs": [],
   "source": [
    "from cellorganizer.tools import slml2img\n",
    "\n",
    "\n",
    "\n",
    "options = {}\n",
    "options['seed = 3;\n",
    "filename = '../../../images/HeLa/3D/processed/LAM_cell10_ch0_t1.tif';\n",
    "options['instance.nucleus'] = tif2img( filename )\n",
    "\n",
    "#step0.2: set the resolution of the latter images\n",
    "options.instance.resolution = [0.049, 0.049, 0.2000]\n",
    "\n",
    "#step0.3: use a valid CellOrganizer model that contains a protein model. in\n",
    "#this model we are going to use the 3D HeLa nucleoli model distributed in\n",
    "#this version of CellOrganizer\n",
    "model_file_path = '../../../models/3D/nuc.mat'\n",
    "\n",
    "#these are optional parameters that you are welcome to modify as needed\n",
    "#location where CellOrganizer will save the images to\n",
    "options['targetDirectory'] = pwd\n",
    "\n",
    "#output folder name\n",
    "options['prefix'] = 'img'\n",
    "\n",
    "#number of images to synthesize\n",
    "options['numberOfSynthesizedImages'] = 1\n",
    "\n",
    "#save images as TIF files\n",
    "options['output.tifimages'] = true\n",
    "\n",
    "#compression for TIF output\n",
    "options['compression'] = 'lzw'\n",
    "\n",
    "#do not apply point-spread-function\n",
    "options['microscope'] = 'none'\n",
    "\n",
    "#render Gaussian objects as discs\n",
    "options['sampling.method'] = 'disc'\n",
    "\n",
    "#synthesize for all channels\n",
    "options['synthesis'] = 'all'\n",
    "\n",
    "#main call to CellOrganizer\n",
    "answer = slml2img( model_file_path,  options )\n"
   ]
  }
 ],
 "metadata": {
  "kernelspec": {
   "display_name": "Python 3",
   "language": "python",
   "name": "python3"
  },
  "language_info": {
   "codemirror_mode": {
    "name": "ipython",
    "version": 3
   },
   "file_extension": ".py",
   "mimetype": "text/x-python",
   "name": "python",
   "nbconvert_exporter": "python",
   "pygments_lexer": "ipython3",
   "version": "3.6.8"
  }
 },
 "nbformat": 4,
 "nbformat_minor": 2
}
