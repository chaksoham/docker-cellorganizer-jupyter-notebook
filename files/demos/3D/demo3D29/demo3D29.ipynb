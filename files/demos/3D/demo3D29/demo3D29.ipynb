{
 "cells": [
  {
   "cell_type": "markdown",
   "metadata": {},
   "source": [
    "# demo3D29\n",
    "Displays information about a model\n",
    "\n",
    "\n",
    "## Input \n",
    "* valid model\n",
    "\n",
    "## Output\n",
    "* details about the models"
   ]
  },
  {
   "cell_type": "code",
   "execution_count": 3,
   "metadata": {},
   "outputs": [],
   "source": [
    "from cellorganizer.tools import slml2info\n",
    "import os\n",
    "\n",
    "if not os.path.exists('../../../models/3D/ellipsoid_model.mat'):\n",
    "    os.system('wget -nc --quiet http://www.cellorganizer.org/models/ellipsoid_model.mat')\n",
    "    file = 'ellipsoid_model.mat'\n",
    "else:\n",
    "    file = '../../../models/3D/ellipsoid_model.mat'\n",
    "\n",
    "answer = slml2info(file)"
   ]
  },
  {
   "cell_type": "code",
   "execution_count": null,
   "metadata": {},
   "outputs": [],
   "source": []
  }
 ],
 "metadata": {
  "kernelspec": {
   "display_name": "Python 3",
   "language": "python",
   "name": "python3"
  },
  "language_info": {
   "codemirror_mode": {
    "name": "ipython",
    "version": 3
   },
   "file_extension": ".py",
   "mimetype": "text/x-python",
   "name": "python",
   "nbconvert_exporter": "python",
   "pygments_lexer": "ipython3",
   "version": "3.6.8"
  }
 },
 "nbformat": 4,
 "nbformat_minor": 2
}
