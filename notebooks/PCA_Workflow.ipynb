{
 "cells": [
  {
   "cell_type": "markdown",
   "metadata": {},
   "source": [
    "# <center> 2D PCA Tutorial </center>\n",
    "<center> Train 2D generative pca nuclear and cell shape model using the Murphy Lab 2D HeLa dataset. </center>\n",
    " \n",
    "## Input\n",
    "* a directory of raw or synthetic nucleus images\n",
    "* a directory of raw or synthetic cell shape images\n",
    "* the resolution of the images (all images should have the same resolution)\n",
    "\n",
    "## Output\n",
    "* a valid SLML model file\n",
    "* an image synthesized from the newly trained model\n",
    "* a shape space plot generated from the newly trained model\n"
   ]
  },
  {
   "cell_type": "markdown",
   "metadata": {},
   "source": [
    "## Model Training"
   ]
  },
  {
   "cell_type": "code",
   "execution_count": 2,
   "metadata": {},
   "outputs": [
    {
     "data": {
      "text/markdown": [
       "## <center> Training Done </center>"
      ],
      "text/plain": [
       "<IPython.core.display.Markdown object>"
      ]
     },
     "metadata": {},
     "output_type": "display_data"
    }
   ],
   "source": [
    "from cellorganizer.tools import img2slml\n",
    "from IPython.display import Markdown\n",
    "import glob\n",
    "import urllib.request\n",
    "import tarfile \n",
    "import os\n",
    "options = {}\n",
    "        \n",
    "# the following list of parameters are adapted to the LAMP2 image\n",
    "# collection, modify these according to your needs\n",
    "directory = '/home/murphylab/cellorganizer/local/images/HeLa/2D/LAM/'\n",
    "dnaImagesDirectoryPath = glob.glob(directory+'orgdna/cell*.tif' )\n",
    "cellImagesDirectoryPath = glob.glob(directory +'orgcell/cell*.tif' )\n",
    "proteinImagesDirectoryPath = []\n",
    "options['masks'] = glob.glob(directory + 'crop/cell*.tif' )  \n",
    "\n",
    "\n",
    "##Set filename\n",
    "filename   = 'mmbios_pca'\n",
    "model_name = filename + '.mat'\n",
    "# set nuclei and cell model name\n",
    "options['nucleus.name'] = 'LAMP2'\n",
    "options['cell.model'] = 'LAMP2'\n",
    "\n",
    "## Options block\n",
    "options['verbose'] = True\n",
    "options['debug'] = False\n",
    "options['display'] = False\n",
    "options['model.name']= 'demo2D05'\n",
    "options['nucleus.class'] = 'framework'\n",
    "options['nucleus.type'] = 'pca'\n",
    "options['cell.class'] = 'framework'\n",
    "options['cell.type'] = 'pca'\n",
    "#latent dimension for the model\n",
    "options['model.pca.latent_dim'] = 15\n",
    "\n",
    "                           \n",
    "options['model.resolution'] = [ 0.049, 0.049 ]\n",
    "options['model.filename'] = filename + '.xml'\n",
    "options['model.id'] = 'lamp2'\n",
    "options['model.name'] = 'lamp2'\n",
    "\n",
    "# set the dimensionality of the model\n",
    "dimensionality = '2D'\n",
    "# documentation\n",
    "options['documentation.description'] = 'This model has been trained during MMBIOS 2019'\n",
    "# set model type\n",
    "options['train.flag'] = 'framework'\n",
    "\n",
    "\n",
    "\n",
    "## Function call to train the model\n",
    "img2slml(dimensionality, dnaImagesDirectoryPath, cellImagesDirectoryPath, proteinImagesDirectoryPath, options)\n",
    "if (os.path.exists(model_name)):\n",
    "    display(Markdown(\"## <center> Training Done </center>\"))\n",
    "    "
   ]
  },
  {
   "cell_type": "markdown",
   "metadata": {},
   "source": [
    "## Exploration\n",
    "Exploring preprocessed images"
   ]
  },
  {
   "cell_type": "code",
   "execution_count": 1,
   "metadata": {},
   "outputs": [
    {
     "data": {
      "application/vnd.jupyter.widget-view+json": {
       "model_id": "0d7640324ba143aa94baab141143e43d",
       "version_major": 2,
       "version_minor": 0
      },
      "text/plain": [
       "Tab(children=(Accordion(children=(Output(layout=Layout(align_items='center', width='auto')), Output(layout=Lay…"
      ]
     },
     "metadata": {},
     "output_type": "display_data"
    }
   ],
   "source": [
    "import matplotlib.pyplot as plt\n",
    "from cellorganizer.tools import __mat2python\n",
    "import ipywidgets as widgets\n",
    "from IPython.core.display import display, HTML\n",
    "\n",
    "%matplotlib inline\n",
    "def param_show(img):\n",
    "    dpi  = 80\n",
    "    try:\n",
    "        height, width, depth = img.shape\n",
    "    except:\n",
    "        height, width = img.shape\n",
    "\n",
    "    # What size does the figure need to be in inches to fit the image?\n",
    "    figsize = (width / float(dpi)), (height / float(dpi))\n",
    "    fig = plt.figure(figsize=figsize)\n",
    "    ax = fig.add_axes([0, 0, 1, 1])\n",
    "    # Hide spines, ticks, etc.\n",
    "    ax.axis('off')\n",
    "    ax.imshow(img, cmap=plt.cm.binary)\n",
    "    plt.show()\n",
    "\n",
    "param_iter = {}\n",
    "for i in range(5):\n",
    "    param = __mat2python('param/param' + str(i*8+1) + '/seg.mat')\n",
    "    out1 = widgets.Output(layout=widgets.Layout(align_items='center',\n",
    "                                                   width='auto'))\n",
    "    out2 = widgets.Output(layout=widgets.Layout(align_items='center',\n",
    "                                                   width='auto'))\n",
    "    with out1:\n",
    "        param_show(param['cell'])\n",
    "    with out2:\n",
    "        param_show(param['nuc'])\n",
    "\n",
    "    \n",
    "    accordion = widgets.Accordion(children = [out1,out2])\n",
    "    accordion.set_title(0,'Cell')\n",
    "    accordion.set_title(1,'Nuc')\n",
    "    param_iter['param {}'.format(i)] = accordion\n",
    "\n",
    "style = {'description_width': 'initial'}\n",
    "tab = widgets.Tab(children = list(param_iter.values()), layout= widgets.Layout(align_items='center', style = style))\n",
    "for i in range(len(param_iter.keys())):\n",
    "    tab.set_title(i,list(param_iter.keys())[i])\n",
    "\n",
    "display(tab)"
   ]
  },
  {
   "cell_type": "markdown",
   "metadata": {},
   "source": [
    "## Display Preprocessing Parameters"
   ]
  },
  {
   "cell_type": "code",
   "execution_count": null,
   "metadata": {},
   "outputs": [],
   "source": [
    "param = __mat2python('param/param1/seg.mat')"
   ]
  },
  {
   "cell_type": "markdown",
   "metadata": {},
   "source": [
    "## Image Synthesis "
   ]
  },
  {
   "cell_type": "code",
   "execution_count": 5,
   "metadata": {},
   "outputs": [
    {
     "data": {
      "image/png": "[encoded data removed]",
      "text/plain": [
       "<Figure size 471.6x425.7 with 1 Axes>"
      ]
     },
     "metadata": {
      "needs_background": "light"
     },
     "output_type": "display_data"
    }
   ],
   "source": [
    "from cellorganizer.tools import slml2img, imshow\n",
    "import matplotlib.pyplot as plt\n",
    "def jupyter_imshow(imgpath):\n",
    "    dpi  = 80\n",
    "    img = plt.imread(imgpath)\n",
    "    try:\n",
    "        height, width, depth = img.shape\n",
    "    except:\n",
    "        height, width = img.shape\n",
    "\n",
    "    # What size does the figure need to be in inches to fit the image?\n",
    "    figsize = (width / float(dpi)), (height / float(dpi))\n",
    "    fig = plt.figure(figsize=figsize)\n",
    "    ax = fig.add_axes([0, 0, 1, 1])\n",
    "    # Hide spines, ticks, etc.\n",
    "    ax.axis('off')\n",
    "    ax.imshow(img, cmap=plt.cm.binary)\n",
    "    plt.show()\n",
    "\n",
    "## Options block \n",
    "options = {}\n",
    "options['numberOfSynthesizedImages'] = 1\n",
    "options['targetDirectory'] = 'pwd'\n",
    "options['compression '] = 'lzw'\n",
    "options['model.pca.pca_synthesis_method'] = 'reconstruction'\n",
    "options['model.pca.imageSize'] = [1024, 1024]\n",
    "options['prefix'] = 'img'\n",
    "options['debug'] = False\n",
    "options['verbose'] = True\n",
    "options['display'] = False\n",
    "options['model.name'] = 'PCA_Synth_Im'\n",
    "\n",
    "\n",
    "## Synthesize image and display it\n",
    "slml2img({model_name}, options)\n",
    "if (os.path.exists('img/cell1/cell1.tif')):\n",
    "    jupyter_imshow('img/cell1/cell1.tif')\n",
    "#     display(Markdown(\"## <center> Synthesis Done! Go look at your image </center>\"))"
   ]
  },
  {
   "cell_type": "markdown",
   "metadata": {},
   "source": [
    "## Display the Shape Space from the Generated Model "
   ]
  },
  {
   "cell_type": "code",
   "execution_count": 4,
   "metadata": {},
   "outputs": [
    {
     "data": {
      "text/markdown": [
       "## <center> Shape Space Plot </center>"
      ],
      "text/plain": [
       "<IPython.core.display.Markdown object>"
      ]
     },
     "metadata": {},
     "output_type": "display_data"
    },
    {
     "data": {
      "image/png": "[encoded data removed]",
      "text/plain": [
       "<Figure size 1050.3x787.5 with 1 Axes>"
      ]
     },
     "metadata": {
      "needs_background": "light"
     },
     "output_type": "display_data"
    }
   ],
   "source": [
    "from cellorganizer.tools import slml2info, imshow\n",
    "def jupyter_imshow(imgpath):\n",
    "    dpi  = 80\n",
    "    img = plt.imread(imgpath)\n",
    "    try:\n",
    "        height, width, depth = img.shape\n",
    "    except:\n",
    "        height, width = img.shape\n",
    "\n",
    "    # What size does the figure need to be in inches to fit the image?\n",
    "    figsize = (width / float(dpi)), (height / float(dpi))\n",
    "    fig = plt.figure(figsize=figsize)\n",
    "    ax = fig.add_axes([0, 0, 1, 1])\n",
    "    # Hide spines, ticks, etc.\n",
    "    ax.axis('off')\n",
    "    ax.imshow(img, cmap=plt.cm.binary)\n",
    "    plt.show()\n",
    "\n",
    "slml2info({model_name},{})\n",
    "if os.path.exists('report/show_shape_space.png'):\n",
    "    display(Markdown(\"## <center> Shape Space Plot </center>\"))\n",
    "    jupyter_imshow('report/show_shape_space.png')"
   ]
  },
  {
   "cell_type": "code",
   "execution_count": null,
   "metadata": {},
   "outputs": [],
   "source": []
  }
 ],
 "metadata": {
  "kernelspec": {
   "display_name": "Python 3",
   "language": "python",
   "name": "python3"
  },
  "language_info": {
   "codemirror_mode": {
    "name": "ipython",
    "version": 3
   },
   "file_extension": ".py",
   "mimetype": "text/x-python",
   "name": "python",
   "nbconvert_exporter": "python",
   "pygments_lexer": "ipython3",
   "version": "3.7.3"
  }
 },
 "nbformat": 4,
 "nbformat_minor": 2
}
