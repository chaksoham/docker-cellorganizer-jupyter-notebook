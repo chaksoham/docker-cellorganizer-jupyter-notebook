{
 "cells": [
  {
   "cell_type": "code",
   "execution_count": null,
   "metadata": {},
   "outputs": [],
   "source": [
    "from cellOrganizer import img2slml\n",
    "import glob\n",
    "import urllib.request\n",
    "import tarfile \n",
    "import os\n",
    "\n",
    "if not os.path.exists('../../../images/HeLa/3D/processed'):\n",
    "    os.makedirs('../../../images/HeLa/3D/processed')\n",
    "    urllib.request.urlretrieve('http://www.cellorganizer.org/Downloads/v2.7/docker/v2.7.1/images/demo3D11.tgz', 'demo3D11.tgz')\n",
    "    tar = tarfile.open(name='demo3D11.tgz', mode=\"r:gz\")\n",
    "    tar.extractall(path='../../../images/HeLa/3D/processed', members=None, numeric_owner=False)\n",
    "\n",
    "\n",
    "options['sampling.method'] = 'disc'\n",
    "options['debug'] = True\n",
    "options['verbose'] = True\n",
    "options['display'] = False\n",
    "options['downsampling'] = [5,5,1]\n",
    "options['train.flag'] = 'framework'\n",
    "options['model.filename'] = '3D_HeLa_framework.xml'\n",
    "options['model.name'] = '3d_hela_framework_model'\n",
    "options['model.id'] = 'num2str(now)'\n",
    "options['nucleus.type'] = 'cylindrical_surface'\n",
    "options['nucleus.class'] = 'nuclear_membrane'\n",
    "options['nucleus.name'] = 'all'\n",
    "options['nucleus.id'] = 'num2str(now)'\n",
    "options['cell.type'] = 'ratio'\n",
    "options['cell.class'] = 'cell_membrane'   \n",
    "options['cell.model'] = 'framework'\n",
    "options['cell.id'] = 'num2str(now)'\n",
    "options['model.resolution'] = [0.049, 0.049, 0.2000]\n",
    "\n",
    "\n",
    "\n",
    "options['documentation.author'] = 'Murphy Lab'\n",
    "options['documentation.email'] = 'murphy@cmu.edu'\n",
    "options['documentation.website'] = 'murphy@cmu.edu'\n",
    "options['documentation.description'] = 'This is the framework model is the resu    lt from demo3D11.'\n",
    "options['documentation.date'] = 'date'\n",
    "\n",
    "imageDirectory = '/home/murphylab/cellorganizer/images/HeLa/3D/processed/'\n",
    "dimensionality = '3D'\n",
    "pattern = 'framework'\n",
    "dnaImagesDirectoryPath = glob.glob(directory+'TfR*cell*ch0*.tif' )\n",
    "cellImagesDirectoryPath = glob.glob(directory+'TfR*cell*ch1*.tif' )\n",
    "proteinImagesDirectoryPath = []\n",
    "options['masks'] = glob.glob(directory+'TfR*mask*.tif' )\n",
    "answer = img2slml(dimensionality, dnaImagesDirectoryPath, cellImagesDirectoryPath, proteinImagesDirectoryPath, options)\n",
    "\n",
    "\n",
    "if answer:\n",
    "    print(\"Success!\")"
   ]
  }
 ],
 "metadata": {
  "kernelspec": {
   "display_name": "Python 3",
   "language": "python",
   "name": "python3"
  },
  "language_info": {
   "codemirror_mode": {
    "name": "ipython",
    "version": 3
   },
   "file_extension": ".py",
   "mimetype": "text/x-python",
   "name": "python",
   "nbconvert_exporter": "python",
   "pygments_lexer": "ipython3",
   "version": "3.6.4"
  }
 },
 "nbformat": 4,
 "nbformat_minor": 2
}
