{
 "cells": [
  {
   "cell_type": "code",
   "execution_count": null,
   "metadata": {},
   "outputs": [],
   "source": [
    "from cellorganizer.tools import img2slml\n",
    "import glob\n",
    "import urllib.request\n",
    "import tarfile \n",
    "import os\n",
    "\n",
    "options = {}\n",
    "options['verbose'] = True\n",
    "options['debug'] = True\n",
    "options['display'] = False\n",
    "options['model.name'] = 'demo3D52'\n",
    "options['train.flag'] = 'framework'\n",
    "options['cell.class'] = 'cell_membrane'\n",
    "options['cell.type'] = 'spharm_rpdm'\n",
    "options['nucleus.class'] = 'nuclear_membrane'\n",
    "options['nucleus.type'] = 'spharm_rpdm'\n",
    "\n",
    "# postprocess of parameterization: alignment\n",
    "options['model.spharm_rpdm.postprocess'] = True\n",
    "# degree of the descriptor\n",
    "options['model.spharm_rpdm.maxDeg'] = 31\n",
    "# cellular components: either {'cell'}, {'nuc'}, or {'cell', 'nuc'}\n",
    "options['model.spharm_rpdm.components'] = ['cell','nuc']\n",
    "\n",
    "# latent dimension for the model\n",
    "options['model.spharm_rpdm.latent_dim'] = 15\n",
    "\n",
    "\n",
    "# the following list of parameters are adapted to the LAMP3 image\n",
    "# collection, modify these according to your needs\n",
    "\n",
    "directory = '/home/murphylab/cellorganizer/images/HeLa/3D/processed/'\n",
    "dnaImagesDirectoryPath = [directory + 'LAM_cell1_ch0_t1.tif',directory + 'LAM_cell2_ch0_t1.tif', directory + 'LAM_cell3_ch0_t1.tif', directory + 'LAM_cell4_ch0_t1.tif', directory + 'LAM_cell5_ch0_t1.tif', directory + 'LAM_cell6_ch0_t1.tif', directory + 'LAM_cell7_ch0_t1.tif', directory + 'LAM_cell8_ch0_t1.tif', directory + 'LAM_cell9_ch0_t1.tif']\n",
    "cellImagesDirectoryPath = [directory + 'LAM_cell1_ch1_t1.tif', directory + 'LAM_cell2_ch1_t1.tif', directory + 'LAM_cell3_ch1_t1.tif', directory + 'LAM_cell4_ch1_t1.tif', directory + 'LAM_cell5_ch1_t1.tif', directory + 'LAM_cell6_ch1_t1.tif', directory + 'LAM_cell7_ch1_t1.tif', directory + 'LAM_cell8_ch1_t1.tif', directory + 'LAM_cell9_ch1_t1.tif']\n",
    "proteinImagesDirectoryPath = []\n",
    "\n",
    "options['masks'] = [directory + 'LAM_cell1_mask_t1.tif', directory + 'LAM_cell2_mask_t1.tif', directory + 'LAM_cell3_mask_t1.tif', directory + 'LAM_cell4_mask_t1.tif', directory + 'LAM_cell5_mask_t1.tif', directory + 'LAM_cell6_mask_t1.tif', directory + 'LAM_cell7_mask_t1.tif', directory + 'LAM_cell8_mask_t1.tif', directory + 'LAM_cell9_mask_t1.tif']\n",
    "\n",
    "\n",
    "\n",
    "options['model.resolution'] = [0.049, 0.049, 0.2000]\n",
    "options['downsampling'] = [5, 5, 1]\n",
    "options['model.filename'] = 'lamp2.xml'\n",
    "options['model.id'] = 'lamp2'\n",
    "options['model.name'] = 'lamp2'\n",
    "options['nucleus.name'] = 'LAMP2'\n",
    "options['cell.model'] = 'LAMP2'\n",
    "dimensionality = '3D'\n",
    "options['documentation.description'] = 'This model has been trained using demo3D52 from CellOrganizer'\n",
    "options['model.spharm_rpdm.segminnucfraction'] = 0.1\n",
    "\n",
    "img2slml(dimensionality, dnaImagesDirectoryPath, cellImagesDirectoryPath, proteinImagesDirectoryPath, options)"
   ]
  },
  {
   "cell_type": "code",
   "execution_count": 1,
   "metadata": {},
   "outputs": [],
   "source": [
    "from cellorganizer.tools import slml2slml, slml2img\n",
    "import os\n",
    "\n",
    "framework_model = 'lamp2.mat'\n",
    "vesicle_model   = '../../../models/3D/tfr.mat'\n",
    "options_comb = {}\n",
    "options_comb['output_filename'] = 'combined_model.mat'\n",
    "options_comb['selection']       = '[1,1,0;0,0,1]'\n",
    "slml2slml([framework_model,vesicle_model], options_comb)\n",
    "\n",
    "options = {}\n",
    "options['seed'] = 639848\n",
    "options['targetDirectory'] = 'pwd'\n",
    "options['prefix'] = 'img'\n",
    "options['synthesis'] = 'all'\n",
    "options['model.spharm_rpdm.synthesis_method']= 'random_sampling'\n",
    "options['model.spharm_rpdm.imageSize'] = [205, 205, 18]\n",
    "options['numberOfSynthesizedImages'] = 1\n",
    "options['numberOfGaussianObjects'] = 5\n",
    "options['rendAtStd'] = 2.0\n",
    "options['objstd'] = 2.3\n",
    "options['overlapsubsize'] = 1\n",
    "options['overlapthresh'] = 0\n",
    "options['compression'] = 'lzw'\n",
    "options['microscope'] = 'none'\n",
    "options['sampling.method'] = 'disc'\n",
    "options['verbose'] = True\n",
    "options['debug'] = False\n",
    "options['output.tifimages'] = True\n",
    "options['output.OMETIFF'] = True\n",
    "options['output.indexedimage'] = True\n",
    "options['output.SBMLSpatial'] = True\n",
    "options['SBML.downsampling'] = [1/4, 1/4, 1]\n",
    "options['SBML.spatial_use_compression'] = True\n",
    "options['SBML.spatial_use_analytic_meshes'] = True\n",
    "options['SBML.spatial_image'] = False\n",
    "options['SBML.spatial_vcell_compatible'] = False\n",
    "\n",
    "slml2img({'combined_model.mat'}, options)"
   ]
  },
  {
   "cell_type": "code",
   "execution_count": 3,
   "metadata": {},
   "outputs": [
    {
     "data": {
      "application/vnd.jupyter.widget-view+json": {
       "model_id": "b3faa1657f294027afbc38b1648da69e",
       "version_major": 2,
       "version_minor": 0
      },
      "text/plain": [
       "interactive(children=(Dropdown(description='video_number', options=(1,), value=1), Output()), _dom_classes=('w…"
      ]
     },
     "metadata": {},
     "output_type": "display_data"
    }
   ],
   "source": [
    "import ipywidgets as wd\n",
    "from IPython.display import HTML\n",
    "\n",
    "def showvideo(video_number):\n",
    "    display(HTML(\"\"\"<video width=\"400\" height=\"400\" controls><source src=\"movie{}.mp4\" type=\"video/mp4\"></video>\"\"\".format(video_number)))\n",
    "\n",
    "wd.interact(showvideo, video_number = [1]);"
   ]
  },
  {
   "cell_type": "code",
   "execution_count": 4,
   "metadata": {},
   "outputs": [
    {
     "data": {
      "text/html": [
       "\n",
       "<video width=\"320\" height=\"240\" controls>\n",
       "  <source src=\"movie1.mp4\" type=\"video/mp4\">\n",
       "</video>\n"
      ],
      "text/plain": [
       "<IPython.core.display.HTML object>"
      ]
     },
     "execution_count": 4,
     "metadata": {},
     "output_type": "execute_result"
    }
   ],
   "source": [
    "from IPython.display import HTML\n",
    "\n",
    "HTML(\"\"\"\n",
    "<video width=\"320\" height=\"240\" controls>\n",
    "  <source src=\"movie1.mp4\" type=\"video/mp4\">\n",
    "</video>\n",
    "\"\"\")\n"
   ]
  },
  {
   "cell_type": "code",
   "execution_count": null,
   "metadata": {},
   "outputs": [],
   "source": [
    "import io\n",
    "import base64\n",
    "from IPython.display import HTML\n",
    "\n",
    "video = io.open('movie1.mp4', 'r+b').read()\n",
    "encoded = base64.b64encode(video)\n",
    "HTML(data='''<video alt=\"test\" controls>\n",
    "                <source src=\"data:video/mp4;base64,{0}\" type=\"video/mp4\" />\n",
    "             </video>'''.format(encoded.decode('ascii')))"
   ]
  },
  {
   "cell_type": "code",
   "execution_count": null,
   "metadata": {},
   "outputs": [],
   "source": []
  }
 ],
 "metadata": {
  "kernelspec": {
   "display_name": "Python 3",
   "language": "python",
   "name": "python3"
  },
  "language_info": {
   "codemirror_mode": {
    "name": "ipython",
    "version": 3
   },
   "file_extension": ".py",
   "mimetype": "text/x-python",
   "name": "python",
   "nbconvert_exporter": "python",
   "pygments_lexer": "ipython3",
   "version": "3.7.3"
  },
  "widgets": {
   "application/vnd.jupyter.widget-state+json": {
    "state": {
     "16aa3126b0e147ca821aacf1281eb0ab": {
      "model_module": "@jupyter-widgets/output",
      "model_module_version": "1.0.0",
      "model_name": "OutputModel",
      "state": {
       "layout": "IPY_MODEL_56352fd77c6846c0ade57f297d53c065",
       "outputs": [
        {
         "data": {
          "text/html": "<video width=\"100\" height=\"100\" controls><source src=\"movie1.mp4\" type=\"video/mp4\"></video>",
          "text/plain": "<IPython.core.display.HTML object>"
         },
         "metadata": {},
         "output_type": "display_data"
        }
       ]
      }
     },
     "2c6be8baf09241bda0b0a947f124b7b4": {
      "model_module": "@jupyter-widgets/base",
      "model_module_version": "1.1.0",
      "model_name": "LayoutModel",
      "state": {}
     },
     "3231e9c8a5c44a97a1b222ea4fa0ae3d": {
      "model_module": "@jupyter-widgets/controls",
      "model_module_version": "1.4.0",
      "model_name": "DescriptionStyleModel",
      "state": {
       "description_width": ""
      }
     },
     "4040e78ecc9e48ce94577708f1cf9a54": {
      "model_module": "@jupyter-widgets/controls",
      "model_module_version": "1.4.0",
      "model_name": "DropdownModel",
      "state": {
       "_options_labels": [
        "1"
       ],
       "description": "video_number",
       "index": 0,
       "layout": "IPY_MODEL_529d7271d2894e25a24e121f8b20250d",
       "style": "IPY_MODEL_4ea1b5fffb974ea4ab44ede96b07a57a"
      }
     },
     "4dc4dfa5a4ba4e51a3ac20b3280d7640": {
      "model_module": "@jupyter-widgets/base",
      "model_module_version": "1.1.0",
      "model_name": "LayoutModel",
      "state": {}
     },
     "4ea1b5fffb974ea4ab44ede96b07a57a": {
      "model_module": "@jupyter-widgets/controls",
      "model_module_version": "1.4.0",
      "model_name": "DescriptionStyleModel",
      "state": {
       "description_width": ""
      }
     },
     "529d7271d2894e25a24e121f8b20250d": {
      "model_module": "@jupyter-widgets/base",
      "model_module_version": "1.1.0",
      "model_name": "LayoutModel",
      "state": {}
     },
     "56352fd77c6846c0ade57f297d53c065": {
      "model_module": "@jupyter-widgets/base",
      "model_module_version": "1.1.0",
      "model_name": "LayoutModel",
      "state": {}
     },
     "7236d373e6904db8bb0865018da5278b": {
      "model_module": "@jupyter-widgets/controls",
      "model_module_version": "1.4.0",
      "model_name": "DropdownModel",
      "state": {
       "_options_labels": [
        "1"
       ],
       "description": "video_number",
       "index": 0,
       "layout": "IPY_MODEL_2c6be8baf09241bda0b0a947f124b7b4",
       "style": "IPY_MODEL_3231e9c8a5c44a97a1b222ea4fa0ae3d"
      }
     },
     "793dc84128924880b59e7a9c8d628f9c": {
      "model_module": "@jupyter-widgets/output",
      "model_module_version": "1.0.0",
      "model_name": "OutputModel",
      "state": {
       "layout": "IPY_MODEL_8e285b18c5f34b929974713892e504ce",
       "outputs": [
        {
         "data": {
          "text/html": "<video width=\"400\" height=\"400\" controls><source src=\"movie1.mp4\" type=\"video/mp4\"></video>",
          "text/plain": "<IPython.core.display.HTML object>"
         },
         "metadata": {},
         "output_type": "display_data"
        }
       ]
      }
     },
     "8e285b18c5f34b929974713892e504ce": {
      "model_module": "@jupyter-widgets/base",
      "model_module_version": "1.1.0",
      "model_name": "LayoutModel",
      "state": {}
     },
     "9e8e88aa38fd4f6f81b316dbe313c565": {
      "model_module": "@jupyter-widgets/controls",
      "model_module_version": "1.4.0",
      "model_name": "VBoxModel",
      "state": {
       "_dom_classes": [
        "widget-interact"
       ],
       "children": [
        "IPY_MODEL_7236d373e6904db8bb0865018da5278b",
        "IPY_MODEL_16aa3126b0e147ca821aacf1281eb0ab"
       ],
       "layout": "IPY_MODEL_a2c09d3b23ba4aaabf5dcaa6ee5480f8"
      }
     },
     "a2c09d3b23ba4aaabf5dcaa6ee5480f8": {
      "model_module": "@jupyter-widgets/base",
      "model_module_version": "1.1.0",
      "model_name": "LayoutModel",
      "state": {}
     },
     "b3faa1657f294027afbc38b1648da69e": {
      "model_module": "@jupyter-widgets/controls",
      "model_module_version": "1.4.0",
      "model_name": "VBoxModel",
      "state": {
       "_dom_classes": [
        "widget-interact"
       ],
       "children": [
        "IPY_MODEL_4040e78ecc9e48ce94577708f1cf9a54",
        "IPY_MODEL_793dc84128924880b59e7a9c8d628f9c"
       ],
       "layout": "IPY_MODEL_4dc4dfa5a4ba4e51a3ac20b3280d7640"
      }
     }
    },
    "version_major": 2,
    "version_minor": 0
   }
  }
 },
 "nbformat": 4,
 "nbformat_minor": 2
}
