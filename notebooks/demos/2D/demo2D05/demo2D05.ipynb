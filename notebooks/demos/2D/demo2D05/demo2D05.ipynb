{
 "cells": [
  {
   "cell_type": "code",
   "execution_count": null,
   "metadata": {},
   "outputs": [],
   "source": [
    "from cellorganizer.tools import img2slml\n",
    "import glob\n",
    "import urllib.request\n",
    "import tarfile \n",
    "import os\n",
    "\n",
    "if not os.path.exists('../../../images/HeLa/2D/LAM/'):\n",
    "    os.makedirs('../../../images/HeLa/2D/LAM/')\n",
    "    urllib.request.urlretrieve('http://www.cellorganizer.org/Downloads/v2.8/docker/v2.8.0/images/demo2D05.tgz', 'demo2D05.tgz')\n",
    "    tar = tarfile.open(name='demo2D05.tgz', mode=\"r:gz\")\n",
    "    tar.extractall(path=\"../../../images/HeLa/2D/LAM/\", members=None, numeric_owner=False)    \n",
    "    os.system('rm demo2D05.tgz')\n",
    "\n",
    "\n",
    "options = {}\n",
    "options['verbose'] = True\n",
    "options['debug'] = False\n",
    "options['display'] = False\n",
    "options['model.name']= 'demo2D05'\n",
    "options['train.flag'] = 'framework'\n",
    "options['nucleus.class'] = 'framework'\n",
    "options['nucleus.type'] = 'pca'\n",
    "options['cell.class'] = 'framework'\n",
    "options['cell.type'] = 'pca'\n",
    "\n",
    "# latent dimension for the model\n",
    "options['latent_dim'] = 15\n",
    "\n",
    "\n",
    "# the following list of parameters are adapted to the LAMP2 image\n",
    "# collection, modify these according to your needs\n",
    "directory = '/home/murphylab/cellorganizer/images/HeLa/2D/LAM/'\n",
    "\n",
    "dnaImagesDirectoryPath = glob.glob(directory+'orgdna/cell*.tif' )\n",
    "cellImagesDirectoryPath = glob.glob(directory +'orgcell/cell*.tif' )\n",
    "proteinImagesDirectoryPath = []\n",
    "options['masks'] = glob.glob(directory + 'crop/cell*.tif' )\n",
    "                             \n",
    "options['model.resolution'] = [ 0.049, 0.049 ]\n",
    "options['model.filename'] = 'lamp2.xml'\n",
    "options['model.id'] = 'lamp2'\n",
    "options['model.name'] = 'lamp2'\n",
    "# set nuclei and cell model name\n",
    "options['nucleus.name'] = 'LAMP2'\n",
    "options['cell.model'] = 'LAMP2'\n",
    "# set the dimensionality of the model\n",
    "dimensionality = '2D'\n",
    "# documentation\n",
    "options['documentation.description'] = 'This model has been trained using demo2D05 from CellOrganizer'\n",
    "# set model type\n",
    "options['train.flag'] = 'framework'\n",
    "\n",
    "%%time\n",
    "img2slml(dimensionality, dnaImagesDirectoryPath, cellImagesDirectoryPath, proteinImagesDirectoryPath, options)"
   ]
  }
 ],
 "metadata": {
  "kernelspec": {
   "display_name": "Python 3",
   "language": "python",
   "name": "python3"
  },
  "language_info": {
   "codemirror_mode": {
    "name": "ipython",
    "version": 3
   },
   "file_extension": ".py",
   "mimetype": "text/x-python",
   "name": "python",
   "nbconvert_exporter": "python",
   "pygments_lexer": "ipython3",
   "version": "3.6.4"
  }
 },
 "nbformat": 4,
 "nbformat_minor": 2
}
