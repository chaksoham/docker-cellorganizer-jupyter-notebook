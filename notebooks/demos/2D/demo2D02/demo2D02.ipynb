{
 "cells": [
  {
   "cell_type": "code",
   "execution_count": null,
   "metadata": {},
   "outputs": [],
   "source": [
    "from cellorganizer.tools import img2slml\n",
    "from pathlib import Path\n",
    "\n",
    "options = {}\n",
    "\n",
    "options['numberOfSynthesizedImages'] = 1\n",
    "options['targetDirectory'] = 'pwd'\n",
    "options['compression '] = 'lzw'\n",
    "options['prefix'] = 'img'\n",
    "options['debug'] = False\n",
    "options['verbose'] = True\n",
    "options['display'] = False\n",
    "\n",
    "filename_str = '../demo2D01/lamp2.mat'\n",
    "if Path(filename_str).is_file():\n",
    "    print('File '+filename_str+' not found.')\n",
    "    print('Using alternative model present in this distribution.')\n",
    "    filename_str = '../../../models/2D/endosome.mat'\n",
    "\n",
    "options['output.tifimages'] = False\n",
    "options['output.OMETIFF'] = True\n",
    "\n",
    "filename = [filename_str]\n",
    "img2slml(filename, options)"
   ]
  }
 ],
 "metadata": {
  "kernelspec": {
   "display_name": "Python 3",
   "language": "python",
   "name": "python3"
  },
  "language_info": {
   "codemirror_mode": {
    "name": "ipython",
    "version": 3
   },
   "file_extension": ".py",
   "mimetype": "text/x-python",
   "name": "python",
   "nbconvert_exporter": "python",
   "pygments_lexer": "ipython3",
   "version": "3.6.4"
  }
 },
 "nbformat": 4,
 "nbformat_minor": 2
}
