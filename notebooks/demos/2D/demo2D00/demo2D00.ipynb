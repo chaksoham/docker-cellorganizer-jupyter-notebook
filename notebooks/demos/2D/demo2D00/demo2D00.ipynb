{
 "cells": [
  {
   "cell_type": "code",
   "execution_count": 1,
   "metadata": {},
   "outputs": [],
   "source": [
    "from cellorganizer.tools import slml2img\n",
    "from cellorganizer.tools import imshow\n",
    "from skimage import io\n",
    "import matplotlib.pyplot as plt\n",
    "from cellorganizer.ometiff import ometiff2projection\n",
    "\n",
    "filenames = [ '/home/murphylab/cellorganizer/models/2D/nucleolus.mat',\n",
    "             '/home/murphylab/cellorganizer/models/2D/lysosome.mat', \n",
    "             '/home/murphylab/cellorganizer/models/2D/endosome.mat', \n",
    "             '/home/murphylab/cellorganizer/models/2D/mitochondrion.mat']\n",
    "options = {}\n",
    "options['targetDirectory'] = 'pwd'\n",
    "options['prefix'] = 'img'\n",
    "options['compression'] = 'lzw'\n",
    "options['debug'] = False\n",
    "options['verbose'] = True\n",
    "options['display'] = False\n",
    "options['numberOfSynthesizedImages'] = 1\n",
    "\n",
    "slml2img( filenames, options )"
   ]
  },
  {
   "cell_type": "code",
   "execution_count": null,
   "metadata": {},
   "outputs": [],
   "source": [
    "img = ometiff2projection('img/cell1/cell1.ome.tif',{})\n",
    "\n",
    "fig = plt.figure(figsize=(25, 25), dpi= 500, facecolor=\"w\", edgecolor='k')\n",
    "plt.axis('off')\n",
    "plt.imshow(img, cmap='Greys_r')"
   ]
  }
 ],
 "metadata": {
  "kernelspec": {
   "display_name": "Python 3",
   "language": "python",
   "name": "python3"
  },
  "language_info": {
   "codemirror_mode": {
    "name": "ipython",
    "version": 3
   },
   "file_extension": ".py",
   "mimetype": "text/x-python",
   "name": "python",
   "nbconvert_exporter": "python",
   "pygments_lexer": "ipython3",
   "version": "3.6.4"
  }
 },
 "nbformat": 4,
 "nbformat_minor": 2
}
