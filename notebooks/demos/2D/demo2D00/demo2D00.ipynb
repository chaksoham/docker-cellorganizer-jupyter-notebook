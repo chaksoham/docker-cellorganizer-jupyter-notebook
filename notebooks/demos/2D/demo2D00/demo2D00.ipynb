{
 "cells": [
  {
   "cell_type": "code",
   "execution_count": 1,
   "metadata": {},
   "outputs": [],
   "source": [
    "from cellorganizer.tools import slml2img\n",
    "\n",
    "filenames = [ '/home/murphylab/cellorganizer/models/2D/nucleolus.mat',\n",
    "             '/home/murphylab/cellorganizer/models/2D/lysosome.mat', \n",
    "             '/home/murphylab/cellorganizer/models/2D/endosome.mat', \n",
    "             '/home/murphylab/cellorganizer/models/2D/mitochondrion.mat']\n",
    "options = {}\n",
    "options['targetDirectory'] = 'pwd'\n",
    "options['prefix'] = 'img'\n",
    "options['compression'] = 'lzw'\n",
    "options['debug'] = False\n",
    "options['verbose'] = True\n",
    "options['display'] = False\n",
    "options['numberOfSynthesizedImages'] = 1\n",
    "\n",
    "answer = slml2img( filenames, options )\n",
    "\n",
    "\n",
    "    "
   ]
  }
 ],
 "metadata": {
  "kernelspec": {
   "display_name": "Python 3",
   "language": "python",
   "name": "python3"
  },
  "language_info": {
   "codemirror_mode": {
    "name": "ipython",
    "version": 3
   },
   "file_extension": ".py",
   "mimetype": "text/x-python",
   "name": "python",
   "nbconvert_exporter": "python",
   "pygments_lexer": "ipython3",
   "version": "3.6.4"
  }
 },
 "nbformat": 4,
 "nbformat_minor": 2
}
