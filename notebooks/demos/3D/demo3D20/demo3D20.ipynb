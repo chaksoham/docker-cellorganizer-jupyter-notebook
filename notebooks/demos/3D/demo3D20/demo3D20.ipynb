{
 "cells": [
  {
   "cell_type": "code",
   "execution_count": null,
   "metadata": {},
   "outputs": [],
   "source": [
    "from cellorganizer.tools import img2slml\n",
    "import glob\n",
    "import urllib.request\n",
    "import tarfile \n",
    "import os\n",
    "\n",
    "if not os.path.exists('../../../images/HeLa/3D/processed'):\n",
    "    os.system('\twget -nc --quiet http://www.cellorganizer.org/Downloads/v2.7/docker/v2.7.1/images/demo3D20.tgz;mkdir -p ../../../images/HeLa/3D/processed;tar -xvf demo3D20.tgz -C ../../../images/HeLa/3D/processed/;rm -f demo3D20.tgz')\n",
    "    \n",
    "dimensionality = '3D'\n",
    "\n",
    "options = {}\n",
    "options['verbose'] = True\n",
    "options['debug'] = True\n",
    "options['train.flag'] = 'framework'\n",
    "options['model.name'] = 'demo3D20'\n",
    "options['model.id'] = 'num2str(now)'\n",
    "options['model.filename'] = 'model.xml' \n",
    "options['nucleus.type'] = 'diffeomorphic'\n",
    "options['nucleus.class'] = 'framework'\n",
    "options['nucleus.id'] = 'num2str(now)'\n",
    "options['nucleus.name'] = 'lamp2'\n",
    "options['cell.type'] = 'diffeomorphic'\n",
    "options['cell.class'] = 'framework'\n",
    "options['cell.model'] = 'lamp2'\n",
    "options['cell.id'] = 'num2str(now)'\n",
    "\n",
    "options['model.resolution'] = [0.049, 0.049, 0.2000]\n",
    "options['downsampling'] = [10,10,1]\n",
    "\n",
    "directory = '/home/murphylab/cellorganizer/images/HeLa/3D/processed/'\n",
    "dnaImagesDirectoryPath = [directory + 'LAM_cell1_ch0_t1.tif',directory + 'LAM_cell2_ch0_t1.tif', directory + 'LAM_cell3_ch0_t1.tif', directory + 'LAM_cell4_ch0_t1.tif', directory + 'LAM_cell5_ch0_t1.tif', directory + 'LAM_cell6_ch0_t1.tif', directory + 'LAM_cell7_ch0_t1.tif', directory + 'LAM_cell8_ch0_t1.tif', directory + 'LAM_cell9_ch0_t1.tif']\n",
    "cellImagesDirectoryPath = [directory + 'LAM_cell1_ch1_t1.tif', directory + 'LAM_cell2_ch1_t1.tif', directory + 'LAM_cell3_ch1_t1.tif', directory + 'LAM_cell4_ch1_t1.tif', directory + 'LAM_cell5_ch1_t1.tif', directory + 'LAM_cell6_ch1_t1.tif', directory + 'LAM_cell7_ch1_t1.tif', directory + 'LAM_cell8_ch1_t1.tif', directory + 'LAM_cell9_ch1_t1.tif']\n",
    "proteinImagesDirectoryPath = []\n",
    "\n",
    "options['masks'] = [directory + 'LAM_cell1_mask_t1.tif', directory + 'LAM_cell2_mask_t1.tif', directory + 'LAM_cell3_mask_t1.tif', directory + 'LAM_cell4_mask_t1.tif', directory + 'LAM_cell5_mask_t1.tif', directory + 'LAM_cell6_mask_t1.tif', directory + 'LAM_cell7_mask_t1.tif', directory + 'LAM_cell8_mask_t1.tif', directory + 'LAM_cell9_mask_t1.tif']\n",
    "\n",
    "\n",
    "\n",
    "img2slml(dimensionality, dnaImagesDirectoryPath, cellImagesDirectoryPath, proteinImagesDirectoryPath, options)\n",
    "\n",
    "\n",
    "\n"
   ]
  }
 ],
 "metadata": {
  "kernelspec": {
   "display_name": "Python 3",
   "language": "python",
   "name": "python3"
  },
  "language_info": {
   "codemirror_mode": {
    "name": "ipython",
    "version": 3
   },
   "file_extension": ".py",
   "mimetype": "text/x-python",
   "name": "python",
   "nbconvert_exporter": "python",
   "pygments_lexer": "ipython3",
   "version": "3.6.4"
  }
 },
 "nbformat": 4,
 "nbformat_minor": 2
}
