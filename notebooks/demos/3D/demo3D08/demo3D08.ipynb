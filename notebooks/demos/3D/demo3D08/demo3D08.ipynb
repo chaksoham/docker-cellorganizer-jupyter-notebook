{
 "cells": [
  {
   "cell_type": "code",
   "execution_count": null,
   "metadata": {},
   "outputs": [],
   "source": [
    "from cellorganizer.tools import slml2img\n",
    "\n",
    "options = {}\n",
    "options['numberOfSynthesizedImages'] = 1\n",
    "options['targetDirectory'] = 'pwd'\n",
    "options['prefix'] = 'img'\n",
    "options['compression'] = 'lzw'\n",
    "options['microscope'] = 'none'\n",
    "options['sampling.method']= 'disc'\n",
    "options['verbose'] = True\n",
    "options['debug'] = False\n",
    "options['output.indexedimage'] = True\n",
    "options['overlapthresh'] = 0\n",
    "\n",
    "filenames = ['/home/murphylab/cellorganizer/models/3D/nuc.mat',\n",
    "             '/home/murphylab/cellorganizer/models/3D/lamp2.mat',\n",
    "             '/home/murphylab/cellorganizer/models/3D/tfr.mat',\n",
    "             '/home/murphylab/cellorganizer/models/3D/mit.mat']\n",
    "\n",
    "slml2img( filenames, options )\n"
   ]
  }
 ],
 "metadata": {
  "kernelspec": {
   "display_name": "Python 3",
   "language": "python",
   "name": "python3"
  },
  "language_info": {
   "codemirror_mode": {
    "name": "ipython",
    "version": 3
   },
   "file_extension": ".py",
   "mimetype": "text/x-python",
   "name": "python",
   "nbconvert_exporter": "python",
   "pygments_lexer": "ipython3",
   "version": "3.6.4"
  }
 },
 "nbformat": 4,
 "nbformat_minor": 2
}
