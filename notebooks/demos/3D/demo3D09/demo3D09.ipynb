{
 "cells": [
  {
   "cell_type": "code",
   "execution_count": null,
   "metadata": {},
   "outputs": [],
   "source": [
    "from cellorganizer import slml2img\n",
    "\n",
    "options = {}\n",
    "\n",
    "options['targetDirectory'] = 'pwd'\n",
    "options['numberOfSynthesizedImages'] = 1\n",
    "options['prefix'] = 'img'\n",
    "options['image.compression'] = 'lzw'\n",
    "options['microscope'] = 'none'\n",
    "options['sampling.method'] = 'disc'\n",
    "options['verbose'] = True\n",
    "filenames = ['/home/murphylab/cellorganizer/models/3D/lamp2.mat']\n",
    "\n",
    "answer = slml2img( filenames, options )\n",
    "\n",
    "if answer:\n",
    "    print(\"Success!\")"
   ]
  }
 ],
 "metadata": {
  "kernelspec": {
   "display_name": "Python 3",
   "language": "python",
   "name": "python3"
  },
  "language_info": {
   "codemirror_mode": {
    "name": "ipython",
    "version": 3
   },
   "file_extension": ".py",
   "mimetype": "text/x-python",
   "name": "python",
   "nbconvert_exporter": "python",
   "pygments_lexer": "ipython3",
   "version": "3.6.4"
  }
 },
 "nbformat": 4,
 "nbformat_minor": 2
}
