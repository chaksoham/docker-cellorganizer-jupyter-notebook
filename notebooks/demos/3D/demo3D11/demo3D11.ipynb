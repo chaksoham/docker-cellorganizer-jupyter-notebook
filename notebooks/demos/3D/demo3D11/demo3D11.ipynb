{
 "cells": [
  {
   "cell_type": "markdown",
   "metadata": {},
   "source": [
    "# demo3D11\n",
    "Train 3D generative model of the cell framework (nucleus and cell shape) using the Murphy Lab 3D HeLa TfR dataset.\n",
    "\n",
    "## Input \n",
    "* a directory of raw or synthetic nucleus images a directory of raw or synthetic cell shape images the resolution of the images (all images should have the same resolution)\n",
    "\n",
    "## Output\n",
    "* a valid model\n"
   ]
  },
  {
   "cell_type": "code",
   "execution_count": null,
   "metadata": {},
   "outputs": [],
   "source": [
    "from cellorganizer.tools import img2slml\n",
    "import glob\n",
    "import urllib.request\n",
    "import tarfile \n",
    "import os\n",
    "\n",
    "if not os.path.exists('../../../images/HeLa/3D/processed'):\n",
    "    os.makedirs('../../../images/HeLa/3D/processed')\n",
    "    urllib.request.urlretrieve('http://www.cellorganizer.org/Downloads/v2.8.0/docker/images/demo3D11.tgz', 'demo3D11.tgz')\n",
    "    tar = tarfile.open(name='demo3D11.tgz', mode=\"r:gz\")\n",
    "    tar.extractall(path='../../../images/HeLa/3D/processed', members=None, numeric_owner=False)\n",
    "    os.system('rm demo3D11.tgz')\n",
    "\n",
    "options = {}\n",
    "options['sampling.method'] = 'disc'\n",
    "options['debug'] = True\n",
    "options['verbose'] = True\n",
    "options['display'] = False\n",
    "options['temporary_results'] = \"pwd filesep 'temporary_results'\"\n",
    "options['downsampling'] = [5,5,1]\n",
    "options['train.flag'] = 'framework'\n",
    "options['model.filename'] = '3D_HeLa_framework.xml'\n",
    "\n",
    "# generic model options\n",
    "options['model.name'] = '3d_hela_framework_model'\n",
    "options['model.id'] = 'num2str(now)'\n",
    "\n",
    "# nuclear shape model options\n",
    "options['nucleus.type'] = 'cylindrical_surface'\n",
    "options['nucleus.class'] = 'nuclear_membrane'\n",
    "options['nucleus.name'] = 'all'\n",
    "options['nucleus.id'] = 'num2str(now)'\n",
    "\n",
    "# cell shape model options\n",
    "options['cell.type'] = 'ratio'\n",
    "options['cell.class'] = 'cell_membrane'   \n",
    "options['cell.model'] = 'framework'\n",
    "options['cell.id'] = 'num2str(now)'\n",
    "\n",
    "options['model.resolution'] = [0.049, 0.049, 0.2000]\n",
    "directory = '/home/murphylab/cellorganizer/images/HeLa/3D/processed/'\n",
    "\n",
    "dimensionality = '3D'\n",
    "pattern = 'framework'\n",
    "\n",
    "dnaImagesDirectoryPath = glob.glob(directory+'TfR*cell*ch0*.tif' )\n",
    "cellImagesDirectoryPath = glob.glob(directory+'TfR*cell*ch1*.tif' )\n",
    "proteinImagesDirectoryPath = []\n",
    "\n",
    "options['documentation.author'] = 'Murphy Lab'\n",
    "options['documentation.email'] = 'murphy@cmu.edu'\n",
    "options['documentation.website'] = 'murphy@cmu.edu'\n",
    "options['documentation.description'] = 'This is the framework model is the resu    lt from demo3D11.'\n",
    "options['documentation.date'] = 'date'\n",
    "options['masks'] = glob.glob(directory+'TfR*mask*.tif' )\n",
    "\n",
    "img2slml(dimensionality, dnaImagesDirectoryPath, cellImagesDirectoryPath, proteinImagesDirectoryPath, options)"
   ]
  }
 ],
 "metadata": {
  "kernelspec": {
   "display_name": "Python 3",
   "language": "python",
   "name": "python3"
  },
  "language_info": {
   "codemirror_mode": {
    "name": "ipython",
    "version": 3
   },
   "file_extension": ".py",
   "mimetype": "text/x-python",
   "name": "python",
   "nbconvert_exporter": "python",
   "pygments_lexer": "ipython3",
   "version": "3.7.1"
  }
 },
 "nbformat": 4,
 "nbformat_minor": 2
}
