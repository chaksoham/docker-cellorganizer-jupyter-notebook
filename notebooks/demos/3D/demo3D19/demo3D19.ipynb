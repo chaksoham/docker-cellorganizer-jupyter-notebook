{
 "cells": [
  {
   "cell_type": "code",
   "execution_count": null,
   "metadata": {},
   "outputs": [],
   "source": [
    "from cellorganizer.tools import slml2report\n",
    "\n",
    "DIRECTORY = '/home/murphylab/cellorganizer/models/3D/'\n",
    " \n",
    "FILE1 = DIRECTORY + \"nuc.mat\"\n",
    "FILE2 = DIRECTORY + \"lamp2.mat\"\n",
    "\n",
    "slml2report(FILE1,FILE2)"
   ]
  }
 ],
 "metadata": {
  "kernelspec": {
   "display_name": "Python 3",
   "language": "python",
   "name": "python3"
  },
  "language_info": {
   "codemirror_mode": {
    "name": "ipython",
    "version": 3
   },
   "file_extension": ".py",
   "mimetype": "text/x-python",
   "name": "python",
   "nbconvert_exporter": "python",
   "pygments_lexer": "ipython3",
   "version": "3.6.4"
  }
 },
 "nbformat": 4,
 "nbformat_minor": 2
}
