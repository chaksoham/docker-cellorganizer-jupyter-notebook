{
 "cells": [
  {
   "cell_type": "code",
   "execution_count": 1,
   "metadata": {},
   "outputs": [],
   "source": [
    "from cellorganizer.tools import img2slml\n",
    "import glob\n",
    "import urllib.request\n",
    "import tarfile \n",
    "import os\n",
    "\n",
    "if not os.path.exists('../../../images/HeLa/3D/processed'):\n",
    "    os.system('wget -nc --quiet http://www.cellorganizer.org/Downloads/v2.7/docker/v2.7.1/images/demo3D12.tgz;mkdir -p ../../../images/HeLa/3D/processed;tar -xvf demo3D12.tgz -C ../../../images/HeLa/3D/processed/;rm -f demo3D12.tgz')\n",
    "    \n",
    "pattern = 'LAMP2'\n",
    "\n",
    "dimensionality = '3D'\n",
    "\n",
    "options = {}\n",
    "options['protein.name'] = 'lamp2'\n",
    "options['nucleus.name'] = 'lamp2'\n",
    "options['cell.model'] = 'lamp2'\n",
    "options['model.name'] = 'all'\n",
    "options['model.id'] = 'num2str(now)'\n",
    "options['nucleus.type'] = 'cylindrical_surface'\n",
    "options['nucleus.class'] = 'nuclear_membrane'\n",
    "options['nucleus.id'] = 'num2str(now)'\n",
    "options['cell.type'] = 'ratio'\n",
    "options['cell.id'] = 'num2str(now)'\n",
    "options['cell.class'] = 'cell_membrane'\n",
    "options['protein.type'] = 'gmm'\n",
    "options['protein.class'] = 'vesicle'\n",
    "options['protein.id'] = 'num2str(now)'\n",
    "\n",
    "if options['protein.class'] == 'nuc' :\n",
    "    options['protein.cytonuclearflag'] = 'nuc'\n",
    "else:\n",
    "    options['protein.cytonuclearflag'] = 'cyto'\n",
    "\n",
    "options['verbose'] = True\n",
    "options['debug'] = False\n",
    "options['documentation.description'] = 'This model has been trained using demo3D12 from CellOrganizer'\n",
    "\n",
    "directory = '../../../images/HeLa/3D/processed/'\n",
    "\n",
    "dnaImagesDirectoryPath = glob.glob(directory+'LAM*cell*ch0*.tif' )\n",
    "dnaImagesDirectoryPath = [i for i in dnaImagesDirectoryPath if int(i.replace(directory + \"LAM_cell\", \"\").replace(\"_ch0_t1.tif\",\"\")) in list(range(1,31))]\n",
    "\n",
    "cellImagesDirectoryPath = glob.glob(directory +'LAM*cell*ch1*.tif' )\n",
    "cellImagesDirectoryPath = [i for i in cellImagesDirectoryPath if int(i.replace(directory + \"LAM_cell\", \"\").replace(\"_ch1_t1.tif\",\"\")) in list(range(1,31))]\n",
    "\n",
    "proteinImagesDirectoryPath = glob.glob(directory +'LAM*cell*ch2*.tif')\n",
    "proteinImagesDirectoryPath = [i for i in proteinImagesDirectoryPath if int(i.replace(directory + \"LAM_cell\", \"\").replace(\"_ch2_t1.tif\",\"\")) in list(range(1,31))]\n",
    "\n",
    "masks = glob.glob(directory + 'LAM*cell*mask*.tif' )\n",
    "options['masks'] = [i for i in masks if int(i.replace(directory + \"LAM_cell\", \"\").replace(\"_mask_t1.tif\",\"\")) in list(range(1,31))]\n",
    "del masks\n",
    "\n",
    "\n",
    "options['train.flag'] = 'all'\n",
    "options['model.resolution'] = [0.049, 0.049, 0.2000]\n",
    "options['model.filename'] = 'LAMP2.xml'\n",
    "\n",
    "img2slml(dimensionality, dnaImagesDirectoryPath, cellImagesDirectoryPath, proteinImagesDirectoryPath, options)"
   ]
  },
  {
   "cell_type": "code",
   "execution_count": null,
   "metadata": {},
   "outputs": [],
   "source": [
    "os.system('slml2info LAMP2.mat')"
   ]
  }
 ],
 "metadata": {
  "kernelspec": {
   "display_name": "Python 3",
   "language": "python",
   "name": "python3"
  },
  "language_info": {
   "codemirror_mode": {
    "name": "ipython",
    "version": 3
   },
   "file_extension": ".py",
   "mimetype": "text/x-python",
   "name": "python",
   "nbconvert_exporter": "python",
   "pygments_lexer": "ipython3",
   "version": "3.6.4"
  }
 },
 "nbformat": 4,
 "nbformat_minor": 2
}
